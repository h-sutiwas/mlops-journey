{
 "cells": [
  {
   "cell_type": "code",
   "execution_count": 1,
   "id": "5b643c55",
   "metadata": {},
   "outputs": [],
   "source": [
    "from mlflow.tracking import MlflowClient\n",
    "\n",
    "MLFLOW_TRACKING_URI = \"sqlite:///mlflow.db\"\n",
    "\n",
    "client=MlflowClient(tracking_uri=MLFLOW_TRACKING_URI)"
   ]
  },
  {
   "cell_type": "code",
   "execution_count": 5,
   "id": "666f6b64",
   "metadata": {},
   "outputs": [
    {
     "data": {
      "text/plain": [
       "[<Experiment: artifact_location=(\"file:c:/Sutiwas's Documents/GitHub \"\n",
       "  'Projects/mlops-journey/02-experiment-tracking/mlruns/1'), creation_time=1747212136301, experiment_id='1', last_update_time=1747212136301, lifecycle_stage='active', name='TrialExperimentNYC_Taxi', tags={}>]"
      ]
     },
     "execution_count": 5,
     "metadata": {},
     "output_type": "execute_result"
    }
   ],
   "source": [
    "client.search_experiments()"
   ]
  },
  {
   "cell_type": "code",
   "execution_count": 7,
   "id": "cf2b370c",
   "metadata": {},
   "outputs": [
    {
     "data": {
      "text/plain": [
       "'2'"
      ]
     },
     "execution_count": 7,
     "metadata": {},
     "output_type": "execute_result"
    }
   ],
   "source": [
    "client.create_experiment(name=\"my-cool-experiment\")"
   ]
  },
  {
   "cell_type": "code",
   "execution_count": 27,
   "id": "b5e951b1",
   "metadata": {},
   "outputs": [],
   "source": [
    "from mlflow.entities import Experiment, ViewType\n",
    "\n",
    "runs = client.search_runs(\n",
    "    experiment_ids=\"1\",\n",
    "    filter_string=\"metrics.rmse < 6.8\",\n",
    "    run_view_type=ViewType.ACTIVE_ONLY,\n",
    "    max_results=5,\n",
    "    order_by=[\"metrics.rmse ASC\"]\n",
    ")"
   ]
  },
  {
   "cell_type": "code",
   "execution_count": 28,
   "id": "69ac746d",
   "metadata": {},
   "outputs": [
    {
     "name": "stdout",
     "output_type": "stream",
     "text": [
      "run_id: 9f9ab13b5b604ae898a9868c4214cd02, run_name: luxuriant-calf-912, val_rmse: 5.1761\n"
     ]
    }
   ],
   "source": [
    "for run in runs:\n",
    "    try:\n",
    "        print(f\"run_id: {run.info.run_id}, run_name: {run.info.run_name}, rmse: {run.data.metrics['val_rmse']:.4f}\")\n",
    "    except KeyError:\n",
    "        print(f\"run_id: {run.info.run_id}, run_name: {run.info.run_name}, val_rmse: {run.data.metrics['rmse']:.4f}\")"
   ]
  },
  {
   "cell_type": "code",
   "execution_count": 29,
   "id": "80531fef",
   "metadata": {},
   "outputs": [],
   "source": [
    "import mlflow\n",
    "\n",
    "mlflow.set_tracking_uri(MLFLOW_TRACKING_URI)"
   ]
  },
  {
   "cell_type": "code",
   "execution_count": 30,
   "id": "370692e9",
   "metadata": {},
   "outputs": [
    {
     "name": "stderr",
     "output_type": "stream",
     "text": [
      "Successfully registered model 'my-nyc-xgb-model'.\n",
      "Created version '1' of model 'my-nyc-xgb-model'.\n"
     ]
    },
    {
     "data": {
      "text/plain": [
       "<ModelVersion: aliases=[], creation_timestamp=1747802519857, current_stage='None', description=None, last_updated_timestamp=1747802519857, name='my-nyc-xgb-model', run_id='9f9ab13b5b604ae898a9868c4214cd02', run_link=None, source=(\"file:c:/Sutiwas's Documents/GitHub \"\n",
       " 'Projects/mlops-journey/02-experiment-tracking/mlruns/1/9f9ab13b5b604ae898a9868c4214cd02/artifacts/model'), status='READY', status_message=None, tags={}, user_id=None, version=1>"
      ]
     },
     "execution_count": 30,
     "metadata": {},
     "output_type": "execute_result"
    }
   ],
   "source": [
    "run_id = \"9f9ab13b5b604ae898a9868c4214cd02\"\n",
    "\n",
    "model_uri = f\"runs:/{run_id}/model\"\n",
    "mlflow.register_model(model_uri=model_uri, name=\"my-nyc-xgb-model\")"
   ]
  },
  {
   "cell_type": "code",
   "execution_count": 32,
   "id": "4ce3bae9",
   "metadata": {},
   "outputs": [
    {
     "name": "stdout",
     "output_type": "stream",
     "text": [
      "version: 1, stage: None\n"
     ]
    },
    {
     "name": "stderr",
     "output_type": "stream",
     "text": [
      "C:\\Users\\UsEr\\AppData\\Local\\Temp\\ipykernel_20132\\3048196165.py:2: FutureWarning: ``mlflow.tracking.client.MlflowClient.get_latest_versions`` is deprecated since 2.9.0. Model registry stages will be removed in a future major release. To learn more about the deprecation of model registry stages, see our migration guide here: https://mlflow.org/docs/latest/model-registry.html#migrating-from-stages\n",
      "  latest_versions = client.get_latest_versions(name=model_name)\n"
     ]
    }
   ],
   "source": [
    "model_name = \"my-nyc-xgb-model\"\n",
    "latest_versions = client.get_latest_versions(name=model_name)\n",
    "\n",
    "for version in latest_versions:\n",
    "    print(f\"version: {version.version}, stage: {version.current_stage}\")"
   ]
  },
  {
   "cell_type": "code",
   "execution_count": null,
   "id": "93bd4ec4",
   "metadata": {},
   "outputs": [
    {
     "name": "stderr",
     "output_type": "stream",
     "text": [
      "C:\\Users\\UsEr\\AppData\\Local\\Temp\\ipykernel_20132\\3681565072.py:3: FutureWarning: ``mlflow.tracking.client.MlflowClient.transition_model_version_stage`` is deprecated since 2.9.0. Model registry stages will be removed in a future major release. To learn more about the deprecation of model registry stages, see our migration guide here: https://mlflow.org/docs/latest/model-registry.html#migrating-from-stages\n",
      "  client.transition_model_version_stage(\n"
     ]
    },
    {
     "ename": "MlflowException",
     "evalue": "Parameter 'version' must be an integer, got 'my-nyc-xgb-model'.",
     "output_type": "error",
     "traceback": [
      "\u001b[31m---------------------------------------------------------------------------\u001b[39m",
      "\u001b[31mValueError\u001b[39m                                Traceback (most recent call last)",
      "\u001b[36mFile \u001b[39m\u001b[32mc:\\Users\\UsEr\\.conda\\envs\\exp-tracking-env\\Lib\\site-packages\\mlflow\\utils\\validation.py:491\u001b[39m, in \u001b[36m_validate_model_version\u001b[39m\u001b[34m(model_version)\u001b[39m\n\u001b[32m    490\u001b[39m \u001b[38;5;28;01mtry\u001b[39;00m:\n\u001b[32m--> \u001b[39m\u001b[32m491\u001b[39m     model_version = \u001b[38;5;28;43mint\u001b[39;49m\u001b[43m(\u001b[49m\u001b[43mmodel_version\u001b[49m\u001b[43m)\u001b[49m\n\u001b[32m    492\u001b[39m \u001b[38;5;28;01mexcept\u001b[39;00m \u001b[38;5;167;01mValueError\u001b[39;00m:\n",
      "\u001b[31mValueError\u001b[39m: invalid literal for int() with base 10: 'my-nyc-xgb-model'",
      "\nDuring handling of the above exception, another exception occurred:\n",
      "\u001b[31mMlflowException\u001b[39m                           Traceback (most recent call last)",
      "\u001b[36mCell\u001b[39m\u001b[36m \u001b[39m\u001b[32mIn[35]\u001b[39m\u001b[32m, line 3\u001b[39m\n\u001b[32m      1\u001b[39m model_version = \u001b[32m1\u001b[39m\n\u001b[32m      2\u001b[39m new_stage = \u001b[33m\"\u001b[39m\u001b[33mStaging\u001b[39m\u001b[33m\"\u001b[39m\n\u001b[32m----> \u001b[39m\u001b[32m3\u001b[39m \u001b[43mclient\u001b[49m\u001b[43m.\u001b[49m\u001b[43mtransition_model_version_stage\u001b[49m\u001b[43m(\u001b[49m\n\u001b[32m      4\u001b[39m \u001b[43m    \u001b[49m\u001b[43mname\u001b[49m\u001b[43m=\u001b[49m\u001b[43mmodel_name\u001b[49m\u001b[43m,\u001b[49m\n\u001b[32m      5\u001b[39m \u001b[43m    \u001b[49m\u001b[43mversion\u001b[49m\u001b[43m=\u001b[49m\u001b[43mmodel_name\u001b[49m\u001b[43m,\u001b[49m\n\u001b[32m      6\u001b[39m \u001b[43m    \u001b[49m\u001b[43mstage\u001b[49m\u001b[43m=\u001b[49m\u001b[43mnew_stage\u001b[49m\u001b[43m,\u001b[49m\n\u001b[32m      7\u001b[39m \u001b[43m    \u001b[49m\u001b[43marchive_existing_versions\u001b[49m\u001b[43m=\u001b[49m\u001b[38;5;28;43;01mFalse\u001b[39;49;00m\n\u001b[32m      8\u001b[39m \u001b[43m)\u001b[49m\n",
      "\u001b[36mFile \u001b[39m\u001b[32mc:\\Users\\UsEr\\.conda\\envs\\exp-tracking-env\\Lib\\site-packages\\mlflow\\utils\\annotations.py:164\u001b[39m, in \u001b[36mdeprecated.<locals>.deprecated_decorator.<locals>.deprecated_func\u001b[39m\u001b[34m(*args, **kwargs)\u001b[39m\n\u001b[32m    161\u001b[39m \u001b[38;5;129m@wraps\u001b[39m(obj)\n\u001b[32m    162\u001b[39m \u001b[38;5;28;01mdef\u001b[39;00m\u001b[38;5;250m \u001b[39m\u001b[34mdeprecated_func\u001b[39m(*args, **kwargs):\n\u001b[32m    163\u001b[39m     warnings.warn(notice, category=\u001b[38;5;167;01mFutureWarning\u001b[39;00m, stacklevel=\u001b[32m2\u001b[39m)\n\u001b[32m--> \u001b[39m\u001b[32m164\u001b[39m     \u001b[38;5;28;01mreturn\u001b[39;00m \u001b[43mobj\u001b[49m\u001b[43m(\u001b[49m\u001b[43m*\u001b[49m\u001b[43margs\u001b[49m\u001b[43m,\u001b[49m\u001b[43m \u001b[49m\u001b[43m*\u001b[49m\u001b[43m*\u001b[49m\u001b[43mkwargs\u001b[49m\u001b[43m)\u001b[49m\n",
      "\u001b[36mFile \u001b[39m\u001b[32mc:\\Users\\UsEr\\.conda\\envs\\exp-tracking-env\\Lib\\site-packages\\mlflow\\tracking\\client.py:4445\u001b[39m, in \u001b[36mMlflowClient.transition_model_version_stage\u001b[39m\u001b[34m(self, name, version, stage, archive_existing_versions)\u001b[39m\n\u001b[32m   4373\u001b[39m \u001b[38;5;250m\u001b[39m\u001b[33;03m\"\"\"\u001b[39;00m\n\u001b[32m   4374\u001b[39m \u001b[33;03mUpdate model version stage.\u001b[39;00m\n\u001b[32m   4375\u001b[39m \n\u001b[32m   (...)\u001b[39m\u001b[32m   4442\u001b[39m \u001b[33;03m    Stage: Staging\u001b[39;00m\n\u001b[32m   4443\u001b[39m \u001b[33;03m\"\"\"\u001b[39;00m\n\u001b[32m   4444\u001b[39m \u001b[38;5;28mself\u001b[39m._raise_if_prompt(name)\n\u001b[32m-> \u001b[39m\u001b[32m4445\u001b[39m \u001b[38;5;28;01mreturn\u001b[39;00m \u001b[38;5;28;43mself\u001b[39;49m\u001b[43m.\u001b[49m\u001b[43m_get_registry_client\u001b[49m\u001b[43m(\u001b[49m\u001b[43m)\u001b[49m\u001b[43m.\u001b[49m\u001b[43mtransition_model_version_stage\u001b[49m\u001b[43m(\u001b[49m\n\u001b[32m   4446\u001b[39m \u001b[43m    \u001b[49m\u001b[43mname\u001b[49m\u001b[43m,\u001b[49m\u001b[43m \u001b[49m\u001b[43mversion\u001b[49m\u001b[43m,\u001b[49m\u001b[43m \u001b[49m\u001b[43mstage\u001b[49m\u001b[43m,\u001b[49m\u001b[43m \u001b[49m\u001b[43marchive_existing_versions\u001b[49m\n\u001b[32m   4447\u001b[39m \u001b[43m\u001b[49m\u001b[43m)\u001b[49m\n",
      "\u001b[36mFile \u001b[39m\u001b[32mc:\\Users\\UsEr\\.conda\\envs\\exp-tracking-env\\Lib\\site-packages\\mlflow\\tracking\\_model_registry\\client.py:291\u001b[39m, in \u001b[36mModelRegistryClient.transition_model_version_stage\u001b[39m\u001b[34m(self, name, version, stage, archive_existing_versions)\u001b[39m\n\u001b[32m    289\u001b[39m \u001b[38;5;28;01mif\u001b[39;00m stage.strip() == \u001b[33m\"\u001b[39m\u001b[33m\"\u001b[39m:\n\u001b[32m    290\u001b[39m     \u001b[38;5;28;01mraise\u001b[39;00m MlflowException(\u001b[33m\"\u001b[39m\u001b[33mThe stage must not be an empty string.\u001b[39m\u001b[33m\"\u001b[39m)\n\u001b[32m--> \u001b[39m\u001b[32m291\u001b[39m \u001b[38;5;28;01mreturn\u001b[39;00m \u001b[38;5;28;43mself\u001b[39;49m\u001b[43m.\u001b[49m\u001b[43mstore\u001b[49m\u001b[43m.\u001b[49m\u001b[43mtransition_model_version_stage\u001b[49m\u001b[43m(\u001b[49m\n\u001b[32m    292\u001b[39m \u001b[43m    \u001b[49m\u001b[43mname\u001b[49m\u001b[43m=\u001b[49m\u001b[43mname\u001b[49m\u001b[43m,\u001b[49m\n\u001b[32m    293\u001b[39m \u001b[43m    \u001b[49m\u001b[43mversion\u001b[49m\u001b[43m=\u001b[49m\u001b[43mversion\u001b[49m\u001b[43m,\u001b[49m\n\u001b[32m    294\u001b[39m \u001b[43m    \u001b[49m\u001b[43mstage\u001b[49m\u001b[43m=\u001b[49m\u001b[43mstage\u001b[49m\u001b[43m,\u001b[49m\n\u001b[32m    295\u001b[39m \u001b[43m    \u001b[49m\u001b[43marchive_existing_versions\u001b[49m\u001b[43m=\u001b[49m\u001b[43marchive_existing_versions\u001b[49m\u001b[43m,\u001b[49m\n\u001b[32m    296\u001b[39m \u001b[43m\u001b[49m\u001b[43m)\u001b[49m\n",
      "\u001b[36mFile \u001b[39m\u001b[32mc:\\Users\\UsEr\\.conda\\envs\\exp-tracking-env\\Lib\\site-packages\\mlflow\\store\\model_registry\\sqlalchemy_store.py:931\u001b[39m, in \u001b[36mSqlAlchemyStore.transition_model_version_stage\u001b[39m\u001b[34m(self, name, version, stage, archive_existing_versions)\u001b[39m\n\u001b[32m    928\u001b[39m         mv.current_stage = STAGE_ARCHIVED\n\u001b[32m    929\u001b[39m         mv.last_updated_time = last_updated_time\n\u001b[32m--> \u001b[39m\u001b[32m931\u001b[39m sql_model_version = \u001b[38;5;28;43mself\u001b[39;49m\u001b[43m.\u001b[49m\u001b[43m_get_sql_model_version\u001b[49m\u001b[43m(\u001b[49m\n\u001b[32m    932\u001b[39m \u001b[43m    \u001b[49m\u001b[43msession\u001b[49m\u001b[43m=\u001b[49m\u001b[43msession\u001b[49m\u001b[43m,\u001b[49m\u001b[43m \u001b[49m\u001b[43mname\u001b[49m\u001b[43m=\u001b[49m\u001b[43mname\u001b[49m\u001b[43m,\u001b[49m\u001b[43m \u001b[49m\u001b[43mversion\u001b[49m\u001b[43m=\u001b[49m\u001b[43mversion\u001b[49m\n\u001b[32m    933\u001b[39m \u001b[43m\u001b[49m\u001b[43m)\u001b[49m\n\u001b[32m    934\u001b[39m sql_model_version.current_stage = get_canonical_stage(stage)\n\u001b[32m    935\u001b[39m sql_model_version.last_updated_time = last_updated_time\n",
      "\u001b[36mFile \u001b[39m\u001b[32mc:\\Users\\UsEr\\.conda\\envs\\exp-tracking-env\\Lib\\site-packages\\mlflow\\store\\model_registry\\sqlalchemy_store.py:837\u001b[39m, in \u001b[36mSqlAlchemyStore._get_sql_model_version\u001b[39m\u001b[34m(cls, session, name, version, eager)\u001b[39m\n\u001b[32m    829\u001b[39m \u001b[38;5;250m\u001b[39m\u001b[33;03m\"\"\"\u001b[39;00m\n\u001b[32m    830\u001b[39m \u001b[33;03mArgs:\u001b[39;00m\n\u001b[32m    831\u001b[39m \u001b[33;03m    eager: If ``True``, eagerly loads the model version's tags.\u001b[39;00m\n\u001b[32m   (...)\u001b[39m\u001b[32m    834\u001b[39m \u001b[33;03m        are accessed from the resulting ``SqlModelVersion`` object.\u001b[39;00m\n\u001b[32m    835\u001b[39m \u001b[33;03m\"\"\"\u001b[39;00m\n\u001b[32m    836\u001b[39m _validate_model_name(name)\n\u001b[32m--> \u001b[39m\u001b[32m837\u001b[39m \u001b[43m_validate_model_version\u001b[49m\u001b[43m(\u001b[49m\u001b[43mversion\u001b[49m\u001b[43m)\u001b[49m\n\u001b[32m    838\u001b[39m query_options = \u001b[38;5;28mcls\u001b[39m._get_eager_model_version_query_options() \u001b[38;5;28;01mif\u001b[39;00m eager \u001b[38;5;28;01melse\u001b[39;00m []\n\u001b[32m    839\u001b[39m conditions = [\n\u001b[32m    840\u001b[39m     SqlModelVersion.name == name,\n\u001b[32m    841\u001b[39m     SqlModelVersion.version == version,\n\u001b[32m    842\u001b[39m     SqlModelVersion.current_stage != STAGE_DELETED_INTERNAL,\n\u001b[32m    843\u001b[39m ]\n",
      "\u001b[36mFile \u001b[39m\u001b[32mc:\\Users\\UsEr\\.conda\\envs\\exp-tracking-env\\Lib\\site-packages\\mlflow\\utils\\validation.py:493\u001b[39m, in \u001b[36m_validate_model_version\u001b[39m\u001b[34m(model_version)\u001b[39m\n\u001b[32m    491\u001b[39m     model_version = \u001b[38;5;28mint\u001b[39m(model_version)\n\u001b[32m    492\u001b[39m \u001b[38;5;28;01mexcept\u001b[39;00m \u001b[38;5;167;01mValueError\u001b[39;00m:\n\u001b[32m--> \u001b[39m\u001b[32m493\u001b[39m     \u001b[38;5;28;01mraise\u001b[39;00m MlflowException(\n\u001b[32m    494\u001b[39m         not_integer_value(\u001b[33m\"\u001b[39m\u001b[33mversion\u001b[39m\u001b[33m\"\u001b[39m, model_version), error_code=INVALID_PARAMETER_VALUE\n\u001b[32m    495\u001b[39m     )\n",
      "\u001b[31mMlflowException\u001b[39m: Parameter 'version' must be an integer, got 'my-nyc-xgb-model'."
     ]
    }
   ],
   "source": [
    "model_version = 1\n",
    "new_stage = \"Staging\"\n",
    "client.transition_model_version_stage(\n",
    "    name=model_name,\n",
    "    version=model_version,\n",
    "    stage=new_stage,\n",
    "    archive_existing_versions=False\n",
    ")"
   ]
  },
  {
   "cell_type": "code",
   "execution_count": 36,
   "id": "188dceb4",
   "metadata": {},
   "outputs": [
    {
     "data": {
      "text/plain": [
       "<ModelVersion: aliases=[], creation_timestamp=1747802519857, current_stage='Staging', description='The model version 1 was transitioned to Staging on 2025-05-21 11:49:26.', last_updated_timestamp=1747802966917, name='my-nyc-xgb-model', run_id='9f9ab13b5b604ae898a9868c4214cd02', run_link=None, source=(\"file:c:/Sutiwas's Documents/GitHub \"\n",
       " 'Projects/mlops-journey/02-experiment-tracking/mlruns/1/9f9ab13b5b604ae898a9868c4214cd02/artifacts/model'), status='READY', status_message=None, tags={}, user_id=None, version=1>"
      ]
     },
     "execution_count": 36,
     "metadata": {},
     "output_type": "execute_result"
    }
   ],
   "source": [
    "from datetime import datetime\n",
    "\n",
    "date = datetime.now().strftime(\"%Y-%m-%d %H:%M:%S\")\n",
    "client.update_model_version(\n",
    "    name=model_name,\n",
    "    version=model_version,\n",
    "    description=f\"The model version {model_version} was transitioned to {new_stage} on {date}.\"\n",
    ")"
   ]
  },
  {
   "cell_type": "code",
   "execution_count": 37,
   "id": "b1e0c427",
   "metadata": {},
   "outputs": [
    {
     "name": "stdout",
     "output_type": "stream",
     "text": [
      "CPU times: total: 0 ns\n",
      "Wall time: 0 ns\n"
     ]
    },
    {
     "data": {
      "text/plain": [
       "'2025-05-21 11:51:31'"
      ]
     },
     "execution_count": 37,
     "metadata": {},
     "output_type": "execute_result"
    }
   ],
   "source": [
    "%time datetime.now().strftime(\"%Y-%m-%d %H:%M:%S\")"
   ]
  }
 ],
 "metadata": {
  "kernelspec": {
   "display_name": "exp-tracking-env",
   "language": "python",
   "name": "python3"
  },
  "language_info": {
   "codemirror_mode": {
    "name": "ipython",
    "version": 3
   },
   "file_extension": ".py",
   "mimetype": "text/x-python",
   "name": "python",
   "nbconvert_exporter": "python",
   "pygments_lexer": "ipython3",
   "version": "3.12.7"
  }
 },
 "nbformat": 4,
 "nbformat_minor": 5
}
