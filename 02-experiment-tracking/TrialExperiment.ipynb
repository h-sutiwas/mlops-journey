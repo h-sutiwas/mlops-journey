{
 "cells": [
  {
   "cell_type": "markdown",
   "id": "7aa342bf",
   "metadata": {},
   "source": [
    "## Import dependencies"
   ]
  },
  {
   "cell_type": "code",
   "execution_count": 1,
   "id": "92b47fa7",
   "metadata": {},
   "outputs": [],
   "source": [
    "import pandas as pd\n",
    "import numpy as np\n",
    "import pickle\n",
    "\n",
    "from sklearn.feature_extraction import DictVectorizer\n",
    "from sklearn.linear_model import LinearRegression\n",
    "from sklearn.metrics import mean_squared_error, root_mean_squared_error\n",
    "\n",
    "import xgboost as xgb\n",
    "from hyperopt import fmin, tpe, hp, STATUS_OK, Trials\n",
    "from hyperopt.pyll import scope\n",
    "\n",
    "import mlflow\n",
    "\n",
    "import warnings\n",
    "warnings.filterwarnings(\"ignore\")"
   ]
  },
  {
   "cell_type": "markdown",
   "id": "efc0b581",
   "metadata": {},
   "source": [
    "## Data Handling"
   ]
  },
  {
   "cell_type": "code",
   "execution_count": 2,
   "id": "c53d7a1d",
   "metadata": {},
   "outputs": [],
   "source": [
    "def read_and_handling(filepath):\n",
    "    df = pd.read_parquet(filepath)\n",
    "    print(f\"Data loaded from {filepath}...\")\n",
    "\n",
    "    # Data Preprocessing\n",
    "    print(\"Preprocessing data...\\n\")\n",
    "    print(f\"Initial shape: {df.shape}\")\n",
    "    print(f\"Number of columns: {df.shape[1]}\\n\")\n",
    "\n",
    "    df.tpep_dropoff_datetime = pd.to_datetime(df.tpep_dropoff_datetime)\n",
    "    df.tpep_pickup_datetime = pd.to_datetime(df.tpep_pickup_datetime)\n",
    "\n",
    "    df['duration'] = df.tpep_dropoff_datetime - df.tpep_pickup_datetime\n",
    "    df.duration = df.duration.apply(lambda td: td.total_seconds() / 60)\n",
    "\n",
    "    print(f\"Standard deviation of the trips duration: {round(df.duration.std(), 2)}\\n\")\n",
    "\n",
    "    categorical = ['PULocationID', 'DOLocationID']\n",
    "    numerical = []\n",
    "    df[categorical] = df[categorical].astype(str)\n",
    "\n",
    "    # Anomaly Handling\n",
    "    print(\"Handling outliers...\\n\")\n",
    "    initial_rows = df.shape[0]\n",
    "    df = df[((df.duration >= 1) & (df.duration <= 60))]\n",
    "    final_rows = df.shape[0]\n",
    "    \n",
    "    print(f\"Initial records: {initial_rows}\")\n",
    "    print(f\"Final records: {final_rows}\")\n",
    "    print(f\"Fraction of the records after outliers handling: {100-(100*(initial_rows - final_rows)/final_rows):.2f}%\\n\")\n",
    "\n",
    "    print(\"----------------------\\n\")\n",
    "\n",
    "    return df"
   ]
  },
  {
   "cell_type": "markdown",
   "id": "483d0905",
   "metadata": {},
   "source": [
    "## ML Model Development"
   ]
  },
  {
   "cell_type": "markdown",
   "id": "05bfd3a0",
   "metadata": {},
   "source": [
    "### Feature Engineering"
   ]
  },
  {
   "cell_type": "code",
   "execution_count": 3,
   "id": "01950391",
   "metadata": {},
   "outputs": [],
   "source": [
    "def feature_engineering(df_train, df_val):\n",
    "    # Feature Engineering\n",
    "    print(\"Feature engineering...\\n\")\n",
    "\n",
    "    target = 'duration'\n",
    "    numerical = []\n",
    "    categorical = ['PULocationID', 'DOLocationID']\n",
    "    mlflow.log_param(\"target\", target)\n",
    "    mlflow.log_param(\"numerical_columns\", numerical)\n",
    "    mlflow.log_param(\"categorical_columns\", categorical)\n",
    "\n",
    "    # One-hot encoding\n",
    "    print(\"One-hot encoding...\\n\")\n",
    "    \n",
    "    dv = DictVectorizer()\n",
    "    X_train = dv.fit_transform(df_train[categorical + numerical].to_dict(orient='records'))\n",
    "    y_train = df_train[target].values\n",
    "    mlflow.log_param(\"X_train_shape\", X_train.shape)\n",
    "    mlflow.log_param(\"y_train_shape\", y_train.shape)\n",
    "    mlflow.log_param(\"X_train_columns\", X_train.shape[1])\n",
    "\n",
    "    print(f\"Number of features: {len(dv.get_feature_names_out())}\")\n",
    "    print(f\"Training shape: {X_train.shape}\")    \n",
    "    print(f\"Dimensionality of this matrix (number of columns): {X_train.shape[1]}\\n\")\n",
    "\n",
    "    X_val = dv.transform(df_val[categorical + numerical].to_dict(orient='records'))\n",
    "    y_val = df_val[target].values\n",
    "    mlflow.log_param(\"X_val_shape\", X_val.shape)\n",
    "    mlflow.log_param(\"y_val_shape\", y_val.shape)\n",
    "    mlflow.log_param(\"X_val_columns\", X_val.shape[1])\n",
    "    \n",
    "    print(f\"Validation shape: {X_val.shape}\")\n",
    "    print(f\"Dimensionality of this matrix (number of columns): {X_val.shape[1]}\")\n",
    "\n",
    "    return X_train, y_train, X_val, y_val, dv"
   ]
  },
  {
   "cell_type": "markdown",
   "id": "95cb11d6",
   "metadata": {},
   "source": [
    "### Linear Regression Model Development"
   ]
  },
  {
   "cell_type": "code",
   "execution_count": 4,
   "id": "b4f12698",
   "metadata": {},
   "outputs": [],
   "source": [
    "def linearRegression_modelDev(X_train, y_train, X_val, y_val, dv):\n",
    "    # Training the model\n",
    "    print(\"Training the model...\")\n",
    "    \n",
    "    model = LinearRegression()\n",
    "    mlflow.log_param(\"model_type\", type(model).__name__)\n",
    "    mlflow.log_param(\"model_name\", model.__class__.__name__)\n",
    "    mlflow.log_param(\"model_params\", model.get_params())\n",
    "\n",
    "    model.fit(X_train, y_train)\n",
    "    y_test = model.predict(X_train)\n",
    "    train_rmse = root_mean_squared_error(y_train, y_test)\n",
    "    mlflow.log_metric(\"train_rmse\", train_rmse)\n",
    "\n",
    "    print(f\"Training RMSE: {train_rmse:.2f}\\n\")\n",
    "\n",
    "    # Model Validation\n",
    "    print(\"Model Validation...\")\n",
    "\n",
    "    y_pred = model.predict(X_val)\n",
    "    val_rmse = root_mean_squared_error(y_val, y_pred)\n",
    "    mlflow.log_metric(\"val_rmse\", val_rmse)\n",
    "\n",
    "    print(f\"Validation RMSE: {val_rmse:.2f}\\n\")\n",
    "    \n",
    "    # Save the model\n",
    "    with open('models/A01_lr_model.bin', 'wb') as f_out:\n",
    "        mlflow.log_artifact('models/A01_lr_model.bin')\n",
    "        pickle.dump((dv, model), f_out)"
   ]
  },
  {
   "cell_type": "markdown",
   "id": "aed399dd",
   "metadata": {},
   "source": [
    "### XGBoost Model Development"
   ]
  },
  {
   "cell_type": "code",
   "execution_count": null,
   "id": "46ac3daa",
   "metadata": {},
   "outputs": [],
   "source": []
  },
  {
   "cell_type": "markdown",
   "id": "8cf390cd",
   "metadata": {},
   "source": [
    "## Integrated All Processes"
   ]
  },
  {
   "cell_type": "code",
   "execution_count": 5,
   "id": "f41c9257",
   "metadata": {},
   "outputs": [
    {
     "name": "stdout",
     "output_type": "stream",
     "text": [
      "Data loaded from ../01-intro/data/yellow_tripdata_2023-01.parquet...\n",
      "Preprocessing data...\n",
      "\n",
      "Initial shape: (3066766, 19)\n",
      "Number of columns: 19\n",
      "\n",
      "Standard deviation of the trips duration: 42.59\n",
      "\n",
      "Handling outliers...\n",
      "\n",
      "Initial records: 3066766\n",
      "Final records: 3009173\n",
      "Fraction of the records after outliers handling: 98.09%\n",
      "\n",
      "----------------------\n",
      "\n",
      "Data loaded from ../01-intro/data/yellow_tripdata_2023-02.parquet...\n",
      "Preprocessing data...\n",
      "\n",
      "Initial shape: (2913955, 19)\n",
      "Number of columns: 19\n",
      "\n",
      "Standard deviation of the trips duration: 42.84\n",
      "\n",
      "Handling outliers...\n",
      "\n",
      "Initial records: 2913955\n",
      "Final records: 2855951\n",
      "Fraction of the records after outliers handling: 97.97%\n",
      "\n",
      "----------------------\n",
      "\n",
      "Feature engineering...\n",
      "\n",
      "One-hot encoding...\n",
      "\n",
      "Number of features: 515\n",
      "Training shape: (3009173, 515)\n",
      "Dimensionality of this matrix (number of columns): 515\n",
      "\n",
      "Validation shape: (2855951, 515)\n",
      "Dimensionality of this matrix (number of columns): 515\n",
      "Training the model...\n",
      "Training RMSE: 7.65\n",
      "\n",
      "Model Validation...\n",
      "Validation RMSE: 7.81\n",
      "\n",
      "Linear Regression Model training and evaluation completed.\n",
      "\n",
      "Model training and evaluation completed.\n",
      "\n"
     ]
    }
   ],
   "source": [
    "mlflow.set_tracking_uri(\"sqlite:///mlflow.db\")\n",
    "mlflow.set_experiment(\"TrialExperimentNYC_Taxi\")\n",
    "\n",
    "with mlflow.start_run():\n",
    "    mlflow.set_tag(\"developer\", \"sutiwas-jitsopak\")\n",
    "\n",
    "    mlflow.log_param(\"train-data-path\", \"../01-intro/data/yellow_tripdata_2023-01.parquet\")\n",
    "    mlflow.log_param(\"valid-data-path\", \"../01-intro/data/yellow_tripdata_2023-02.parquet\")\n",
    "\n",
    "    # Data Loading, Preprocessing and Anomaly Handling\n",
    "    df_train = read_and_handling(\"../01-intro/data/yellow_tripdata_2023-01.parquet\")\n",
    "    df_val = read_and_handling(\"../01-intro/data/yellow_tripdata_2023-02.parquet\")\n",
    "    mlflow.log_param(\"train_shape\", df_train.shape)\n",
    "    mlflow.log_param(\"valid_shape\", df_val.shape)\n",
    "    \n",
    "    # ML Model Development: Feature Engineering\n",
    "    X_train, y_train, X_val, y_val, dv = feature_engineering(df_train, df_val)\n",
    "\n",
    "    # ML Model Development: Linear Regression\n",
    "    linearRegression_modelDev(X_train, y_train, X_val, y_val, dv)\n",
    "    print(\"Linear Regression Model training and evaluation completed.\\n\")\n",
    "\n",
    "    # ML Model Development: XGBoost\n",
    "    print(\"Model training and evaluation completed.\\n\")"
   ]
  }
 ],
 "metadata": {
  "kernelspec": {
   "display_name": "exp-tracking-env",
   "language": "python",
   "name": "python3"
  },
  "language_info": {
   "codemirror_mode": {
    "name": "ipython",
    "version": 3
   },
   "file_extension": ".py",
   "mimetype": "text/x-python",
   "name": "python",
   "nbconvert_exporter": "python",
   "pygments_lexer": "ipython3",
   "version": "3.12.7"
  }
 },
 "nbformat": 4,
 "nbformat_minor": 5
}
