{
 "cells": [
  {
   "cell_type": "markdown",
   "id": "7aa342bf",
   "metadata": {},
   "source": [
    "## Import dependencies"
   ]
  },
  {
   "cell_type": "code",
   "execution_count": 1,
   "id": "92b47fa7",
   "metadata": {},
   "outputs": [],
   "source": [
    "import pandas as pd\n",
    "\n",
    "from sklearn.feature_extraction import DictVectorizer\n",
    "from sklearn.linear_model import LinearRegression\n",
    "\n",
    "from sklearn.metrics import root_mean_squared_error\n",
    "\n",
    "import warnings\n",
    "warnings.filterwarnings(\"ignore\")"
   ]
  },
  {
   "cell_type": "markdown",
   "id": "efc0b581",
   "metadata": {},
   "source": [
    "## Data Handling"
   ]
  },
  {
   "cell_type": "code",
   "execution_count": null,
   "id": "c53d7a1d",
   "metadata": {},
   "outputs": [],
   "source": [
    "def data_handling(df):\n",
    "\n",
    "    # Data Preprocessing\n",
    "    print(\"Preprocessing data...\\n\")\n",
    "\n",
    "    print(f\"Initial shape: {df.shape}\")\n",
    "    print(f\"Number of columns: {df.shape[1]}\\n\")\n",
    "\n",
    "    df.tpep_dropoff_datetime = pd.to_datetime(df.tpep_dropoff_datetime)\n",
    "    df.tpep_pickup_datetime = pd.to_datetime(df.tpep_pickup_datetime)\n",
    "\n",
    "    df['duration'] = df.tpep_dropoff_datetime - df.tpep_pickup_datetime\n",
    "    df.duration = df.duration.apply(lambda td: td.total_seconds() / 60)\n",
    "\n",
    "    print(f\"Standard deviation of the trips duration: {round(df_train.duration.std(), 2)}\")\n",
    "\n",
    "    categorical = ['PULocationID', 'DOLocationID']\n",
    "    numerical = []\n",
    "\n",
    "    df[categorical] = df[categorical].astype(str)\n",
    "\n",
    "    initial_rows = df.shape[0]\n",
    "    df = df[((df.duration >= 1) & (df.duration <= 60))]\n",
    "    final_rows = df.shape[0]\n",
    "\n",
    "    print(f\"Initial records: {initial_rows}\")\n",
    "    print(f\"Final records: {final_rows}\")\n",
    "    print(f\"Fraction of the records after outliers handling: {100*(initial_rows - final_rows)/initial_rows:.2f}%\\n\")\n",
    "\n",
    "    return df"
   ]
  },
  {
   "cell_type": "code",
   "execution_count": null,
   "id": "16162cd4",
   "metadata": {},
   "outputs": [],
   "source": []
  },
  {
   "cell_type": "markdown",
   "id": "483d0905",
   "metadata": {},
   "source": [
    "## ML Model Development"
   ]
  }
 ],
 "metadata": {
  "kernelspec": {
   "display_name": "base",
   "language": "python",
   "name": "python3"
  },
  "language_info": {
   "codemirror_mode": {
    "name": "ipython",
    "version": 3
   },
   "file_extension": ".py",
   "mimetype": "text/x-python",
   "name": "python",
   "nbconvert_exporter": "python",
   "pygments_lexer": "ipython3",
   "version": "3.12.7"
  }
 },
 "nbformat": 4,
 "nbformat_minor": 5
}
