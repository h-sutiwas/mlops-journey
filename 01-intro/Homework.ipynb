{
 "cells": [
  {
   "cell_type": "markdown",
   "id": "e4434c25",
   "metadata": {},
   "source": [
    "# Import dependencies"
   ]
  },
  {
   "cell_type": "code",
   "execution_count": null,
   "id": "058f3d4a",
   "metadata": {},
   "outputs": [],
   "source": [
    "import pandas as pd\n",
    "# import pickle\n",
    "# %pip install pyarrow\n",
    "\n",
    "# import seaborn as sns\n",
    "# import matplotlib.pyplot as plt\n",
    "\n",
    "from sklearn.feature_extraction import DictVectorizer\n",
    "from sklearn.linear_model import LinearRegression\n",
    "\n",
    "from sklearn.metrics import root_mean_squared_error\n",
    "\n",
    "import warnings\n",
    "warnings.filterwarnings(\"ignore\")"
   ]
  },
  {
   "cell_type": "code",
   "execution_count": null,
   "id": "e93d871e",
   "metadata": {},
   "outputs": [],
   "source": [
    "df_train = pd.read_parquet(\"./data/yellow_tripdata_2023-01.parquet\")"
   ]
  },
  {
   "cell_type": "markdown",
   "id": "d8b33e15",
   "metadata": {},
   "source": [
    "## Q1: Downloading the data\n",
    "Read the data for January. How many columns are there?"
   ]
  },
  {
   "cell_type": "code",
   "execution_count": null,
   "id": "3643b42c",
   "metadata": {},
   "outputs": [],
   "source": [
    "df_train.shape"
   ]
  },
  {
   "cell_type": "markdown",
   "id": "ae1ac2b6",
   "metadata": {},
   "source": [
    "## Q2. Computing duration\n",
    "What's the standard deviation of the trips duration in January?"
   ]
  },
  {
   "cell_type": "code",
   "execution_count": null,
   "id": "320ef9d3",
   "metadata": {},
   "outputs": [],
   "source": [
    "df_train"
   ]
  },
  {
   "cell_type": "code",
   "execution_count": null,
   "id": "0bc14a38",
   "metadata": {},
   "outputs": [],
   "source": [
    "# df_train\n",
    "df_train.tpep_dropoff_datetime = pd.to_datetime(df_train.tpep_dropoff_datetime)\n",
    "df_train.tpep_pickup_datetime = pd.to_datetime(df_train.tpep_pickup_datetime)\n",
    "\n",
    "df_train['duration'] = df_train.tpep_dropoff_datetime - df_train.tpep_pickup_datetime\n",
    "df_train.duration = df_train.duration.apply(lambda td: td.total_seconds() / 60)\n",
    "\n",
    "categorical = ['PULocationID', 'DOLocationID']\n",
    "numerical = []\n",
    "\n",
    "df_train[categorical] = df_train[categorical].astype(str)\n",
    "\n",
    "# df_val\n",
    "df_val = pd.read_parquet(\"./data/yellow_tripdata_2023-02.parquet\")\n",
    "df_val.tpep_dropoff_datetime = pd.to_datetime(df_val.tpep_dropoff_datetime)\n",
    "df_val.tpep_pickup_datetime = pd.to_datetime(df_val.tpep_pickup_datetime)\n",
    "\n",
    "df_val['duration'] = df_val.tpep_dropoff_datetime - df_val.tpep_pickup_datetime\n",
    "df_val.duration = df_val.duration.apply(lambda td: td.total_seconds() / 60)\n",
    "\n",
    "df_val = df_val[((df_val.duration >= 1) & (df_val.duration <= 60))]\n",
    "df_val[categorical] = df_val[categorical].astype(str)"
   ]
  },
  {
   "cell_type": "code",
   "execution_count": null,
   "id": "45764c2b",
   "metadata": {},
   "outputs": [],
   "source": [
    "round(df_train.duration.std(), 2)"
   ]
  },
  {
   "cell_type": "markdown",
   "id": "abdf0e07",
   "metadata": {},
   "source": [
    "## Q3. Dropping outliers\n",
    "There are some outliers. Let's remove them and keep only the records where the duration was between 1 and 60 minutes (inclusive). What fraction of the records left after you dropped the outliers?"
   ]
  },
  {
   "cell_type": "code",
   "execution_count": null,
   "id": "c1aceb0c",
   "metadata": {},
   "outputs": [],
   "source": [
    "df_train.info()"
   ]
  },
  {
   "cell_type": "code",
   "execution_count": null,
   "id": "b8c742d7",
   "metadata": {},
   "outputs": [],
   "source": [
    "df_train = df_train[((df_train.duration >= 1) & (df_train.duration <= 60))]\n",
    "df_train.info()"
   ]
  },
  {
   "cell_type": "code",
   "execution_count": null,
   "id": "4e744690",
   "metadata": {},
   "outputs": [],
   "source": [
    "100 - ((3066766- 3009173)*100/3009173)\n",
    "# 98%"
   ]
  },
  {
   "cell_type": "markdown",
   "id": "9cbdf5f4",
   "metadata": {},
   "source": [
    "## Q4. One-hot encoding\n",
    "Turn the dataframe into a list of dictionaries (remember to re-cast the ids to strings - otherwise it will label encode them)\n",
    "- Fit a dictionary vectorizer\n",
    "- Get a feature matrix from it\n",
    "- What's the dimensionality of this matrix (number of columns)?"
   ]
  },
  {
   "cell_type": "code",
   "execution_count": null,
   "id": "82299eca",
   "metadata": {},
   "outputs": [],
   "source": [
    "dv = DictVectorizer()\n",
    "\n",
    "train_dict = df_train[categorical + numerical].to_dict(orient=\"records\")\n",
    "X_train = dv.fit_transform(train_dict)"
   ]
  },
  {
   "cell_type": "code",
   "execution_count": null,
   "id": "ab43ae6c",
   "metadata": {},
   "outputs": [],
   "source": [
    "X_train\n",
    "# 515 columns"
   ]
  },
  {
   "cell_type": "markdown",
   "id": "81db3b7c",
   "metadata": {},
   "source": [
    "## Q5. Training a model\n",
    "- Train a plain linear regression model with default parameters, where duration is the response variable\n",
    "- Calculate the RMSE of the model on the training data\n",
    "\n",
    "What's the RMSE on train?"
   ]
  },
  {
   "cell_type": "code",
   "execution_count": null,
   "id": "cc6dd349",
   "metadata": {},
   "outputs": [],
   "source": [
    "target = 'duration'\n",
    "y_train = df_train[target].values\n",
    "\n",
    "lr = LinearRegression()\n",
    "lr.fit(X_train, y_train)\n",
    "y_pred = lr.predict(X_train)\n",
    "\n",
    "print(root_mean_squared_error(y_train, y_pred))"
   ]
  },
  {
   "cell_type": "markdown",
   "id": "bf3ba10a",
   "metadata": {},
   "source": [
    "## Q6. Evaluating the model\n",
    "Apply this model to the validation dataset (February 2023).\n",
    "\n",
    "What's the RMSE on validation?"
   ]
  },
  {
   "cell_type": "code",
   "execution_count": null,
   "id": "a2ceb20f",
   "metadata": {},
   "outputs": [],
   "source": [
    "dv = DictVectorizer()\n",
    "\n",
    "test_dict = df_val[categorical + numerical].to_dict(orient=\"records\")\n",
    "X_val = dv.fit_transform(test_dict)\n",
    "y_val = df_val[target].values\n",
    "print(root_mean_squared_error(y_val, y_pred))"
   ]
  }
 ],
 "metadata": {
  "kernelspec": {
   "display_name": "Python 3",
   "language": "python",
   "name": "python3"
  },
  "language_info": {
   "codemirror_mode": {
    "name": "ipython",
    "version": 3
   },
   "file_extension": ".py",
   "mimetype": "text/x-python",
   "name": "python",
   "nbconvert_exporter": "python",
   "pygments_lexer": "ipython3",
   "version": "3.12.7"
  }
 },
 "nbformat": 4,
 "nbformat_minor": 5
}
